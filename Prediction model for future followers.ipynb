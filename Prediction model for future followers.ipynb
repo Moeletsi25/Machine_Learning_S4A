{
 "cells": [
  {
   "cell_type": "code",
   "execution_count": 1,
   "id": "5dda49b2",
   "metadata": {},
   "outputs": [],
   "source": [
    "import pandas as pd\n",
    "import numpy as np\n",
    "import matplotlib.pyplot as plt\n",
    "import seaborn as sns\n",
    "from sklearn.linear_model import LinearRegression\n",
    "from datetime import datetime, timedelta\n"
   ]
  },
  {
   "cell_type": "code",
   "execution_count": 2,
   "id": "22e12323",
   "metadata": {},
   "outputs": [
    {
     "name": "stdout",
     "output_type": "stream",
     "text": [
      "Defaulting to user installation because normal site-packages is not writeable\n",
      "Requirement already satisfied: xlrd==2.0.1 in /home/moeletsi/.local/lib/python3.10/site-packages (2.0.1)\n"
     ]
    }
   ],
   "source": [
    "!pip install xlrd==2.0.1\n"
   ]
  },
  {
   "cell_type": "code",
   "execution_count": 2,
   "id": "4616b336",
   "metadata": {},
   "outputs": [],
   "source": [
    "df = pd.read_excel('spane4all_followers_1759344331382.xls')"
   ]
  },
  {
   "cell_type": "code",
   "execution_count": 3,
   "id": "cba6e1fb",
   "metadata": {},
   "outputs": [
    {
     "data": {
      "text/html": [
       "<div>\n",
       "<style scoped>\n",
       "    .dataframe tbody tr th:only-of-type {\n",
       "        vertical-align: middle;\n",
       "    }\n",
       "\n",
       "    .dataframe tbody tr th {\n",
       "        vertical-align: top;\n",
       "    }\n",
       "\n",
       "    .dataframe thead th {\n",
       "        text-align: right;\n",
       "    }\n",
       "</style>\n",
       "<table border=\"1\" class=\"dataframe\">\n",
       "  <thead>\n",
       "    <tr style=\"text-align: right;\">\n",
       "      <th></th>\n",
       "      <th>Date</th>\n",
       "      <th>Sponsored followers</th>\n",
       "      <th>Organic followers</th>\n",
       "      <th>Auto-invited followers</th>\n",
       "      <th>Total followers</th>\n",
       "    </tr>\n",
       "  </thead>\n",
       "  <tbody>\n",
       "    <tr>\n",
       "      <th>0</th>\n",
       "      <td>09/30/2024</td>\n",
       "      <td>0.0</td>\n",
       "      <td>0.0</td>\n",
       "      <td>0</td>\n",
       "      <td>0</td>\n",
       "    </tr>\n",
       "    <tr>\n",
       "      <th>1</th>\n",
       "      <td>10/01/2024</td>\n",
       "      <td>0.0</td>\n",
       "      <td>1.0</td>\n",
       "      <td>0</td>\n",
       "      <td>1</td>\n",
       "    </tr>\n",
       "    <tr>\n",
       "      <th>2</th>\n",
       "      <td>10/02/2024</td>\n",
       "      <td>0.0</td>\n",
       "      <td>0.0</td>\n",
       "      <td>0</td>\n",
       "      <td>0</td>\n",
       "    </tr>\n",
       "    <tr>\n",
       "      <th>3</th>\n",
       "      <td>10/03/2024</td>\n",
       "      <td>0.0</td>\n",
       "      <td>1.0</td>\n",
       "      <td>0</td>\n",
       "      <td>1</td>\n",
       "    </tr>\n",
       "    <tr>\n",
       "      <th>4</th>\n",
       "      <td>10/04/2024</td>\n",
       "      <td>0.0</td>\n",
       "      <td>0.0</td>\n",
       "      <td>0</td>\n",
       "      <td>0</td>\n",
       "    </tr>\n",
       "  </tbody>\n",
       "</table>\n",
       "</div>"
      ],
      "text/plain": [
       "         Date  Sponsored followers  Organic followers Auto-invited followers  \\\n",
       "0  09/30/2024                  0.0                0.0                      0   \n",
       "1  10/01/2024                  0.0                1.0                      0   \n",
       "2  10/02/2024                  0.0                0.0                      0   \n",
       "3  10/03/2024                  0.0                1.0                      0   \n",
       "4  10/04/2024                  0.0                0.0                      0   \n",
       "\n",
       "   Total followers  \n",
       "0                0  \n",
       "1                1  \n",
       "2                0  \n",
       "3                1  \n",
       "4                0  "
      ]
     },
     "execution_count": 3,
     "metadata": {},
     "output_type": "execute_result"
    }
   ],
   "source": [
    "df.head()"
   ]
  },
  {
   "cell_type": "code",
   "execution_count": 5,
   "id": "ef8bb4b3",
   "metadata": {},
   "outputs": [
    {
     "data": {
      "text/plain": [
       "Index(['Date', 'Sponsored followers', 'Organic followers',\n",
       "       'Auto-invited followers', 'Total followers'],\n",
       "      dtype='object')"
      ]
     },
     "execution_count": 5,
     "metadata": {},
     "output_type": "execute_result"
    }
   ],
   "source": [
    "df.columns"
   ]
  },
  {
   "cell_type": "code",
   "execution_count": 6,
   "id": "b5ff4aa8",
   "metadata": {},
   "outputs": [],
   "source": [
    "#renaming the columns for convenience\n",
    "df.columns =['Date','Sponsored','Organic','Auto_invited','Total']"
   ]
  },
  {
   "cell_type": "code",
   "execution_count": 7,
   "id": "3d4a90f3",
   "metadata": {},
   "outputs": [],
   "source": [
    "df['Date']= pd.to_datetime(df['Date']) # pesing the date"
   ]
  },
  {
   "cell_type": "code",
   "execution_count": 8,
   "id": "e6f46c16",
   "metadata": {},
   "outputs": [],
   "source": [
    "#sorting just incase\n",
    "df = df.sort_values('Date').reset_index(drop=True)"
   ]
  },
  {
   "cell_type": "code",
   "execution_count": 9,
   "id": "a56dfdf9",
   "metadata": {},
   "outputs": [],
   "source": [
    "#Nowfixing the single negetive value (31 Dec 2024)\n",
    "df.loc[df['Total']<0, 'Total']=0"
   ]
  },
  {
   "cell_type": "markdown",
   "id": "592c0099",
   "metadata": {},
   "source": [
    "# NOW I DO EDA FOR MY DATA"
   ]
  },
  {
   "cell_type": "code",
   "execution_count": 29,
   "id": "24b906a0",
   "metadata": {},
   "outputs": [
    {
     "name": "stdout",
     "output_type": "stream",
     "text": [
      "======DAILY ADDS SUMMARY=========\n",
      "count     366.000000\n",
      "mean       12.964481\n",
      "std       123.939032\n",
      "min         0.000000\n",
      "25%         1.000000\n",
      "50%         4.000000\n",
      "75%         9.000000\n",
      "max      2372.000000\n",
      "Name: Total, dtype: float64\n"
     ]
    }
   ],
   "source": [
    "print('======DAILY ADDS SUMMARY=========')\n",
    "print(df['Total'].describe())"
   ]
  },
  {
   "cell_type": "code",
   "execution_count": 11,
   "id": "ebdb5257",
   "metadata": {},
   "outputs": [],
   "source": [
    "#cumulative followerscolumn\n",
    "df['Cumu_followers'] = df['Total'].cumsum()"
   ]
  },
  {
   "cell_type": "code",
   "execution_count": 12,
   "id": "f4ace4f1",
   "metadata": {},
   "outputs": [
    {
     "data": {
      "text/html": [
       "<div>\n",
       "<style scoped>\n",
       "    .dataframe tbody tr th:only-of-type {\n",
       "        vertical-align: middle;\n",
       "    }\n",
       "\n",
       "    .dataframe tbody tr th {\n",
       "        vertical-align: top;\n",
       "    }\n",
       "\n",
       "    .dataframe thead th {\n",
       "        text-align: right;\n",
       "    }\n",
       "</style>\n",
       "<table border=\"1\" class=\"dataframe\">\n",
       "  <thead>\n",
       "    <tr style=\"text-align: right;\">\n",
       "      <th></th>\n",
       "      <th>Date</th>\n",
       "      <th>Sponsored</th>\n",
       "      <th>Organic</th>\n",
       "      <th>Auto_invited</th>\n",
       "      <th>Total</th>\n",
       "      <th>Cumu_followers</th>\n",
       "    </tr>\n",
       "  </thead>\n",
       "  <tbody>\n",
       "    <tr>\n",
       "      <th>0</th>\n",
       "      <td>2024-09-30</td>\n",
       "      <td>0.0</td>\n",
       "      <td>0.0</td>\n",
       "      <td>0</td>\n",
       "      <td>0</td>\n",
       "      <td>0</td>\n",
       "    </tr>\n",
       "    <tr>\n",
       "      <th>1</th>\n",
       "      <td>2024-10-01</td>\n",
       "      <td>0.0</td>\n",
       "      <td>1.0</td>\n",
       "      <td>0</td>\n",
       "      <td>1</td>\n",
       "      <td>1</td>\n",
       "    </tr>\n",
       "    <tr>\n",
       "      <th>2</th>\n",
       "      <td>2024-10-02</td>\n",
       "      <td>0.0</td>\n",
       "      <td>0.0</td>\n",
       "      <td>0</td>\n",
       "      <td>0</td>\n",
       "      <td>1</td>\n",
       "    </tr>\n",
       "    <tr>\n",
       "      <th>3</th>\n",
       "      <td>2024-10-03</td>\n",
       "      <td>0.0</td>\n",
       "      <td>1.0</td>\n",
       "      <td>0</td>\n",
       "      <td>1</td>\n",
       "      <td>2</td>\n",
       "    </tr>\n",
       "    <tr>\n",
       "      <th>4</th>\n",
       "      <td>2024-10-04</td>\n",
       "      <td>0.0</td>\n",
       "      <td>0.0</td>\n",
       "      <td>0</td>\n",
       "      <td>0</td>\n",
       "      <td>2</td>\n",
       "    </tr>\n",
       "  </tbody>\n",
       "</table>\n",
       "</div>"
      ],
      "text/plain": [
       "        Date  Sponsored  Organic Auto_invited  Total  Cumu_followers\n",
       "0 2024-09-30        0.0      0.0            0      0               0\n",
       "1 2024-10-01        0.0      1.0            0      1               1\n",
       "2 2024-10-02        0.0      0.0            0      0               1\n",
       "3 2024-10-03        0.0      1.0            0      1               2\n",
       "4 2024-10-04        0.0      0.0            0      0               2"
      ]
     },
     "execution_count": 12,
     "metadata": {},
     "output_type": "execute_result"
    }
   ],
   "source": [
    "df.head(5)"
   ]
  },
  {
   "cell_type": "code",
   "execution_count": 13,
   "id": "b493d6e4",
   "metadata": {},
   "outputs": [],
   "source": [
    "#zero against non zero days\n",
    "zero_days = (df['Total']==0).sum()"
   ]
  },
  {
   "cell_type": "code",
   "execution_count": 14,
   "id": "d8a0d4f5",
   "metadata": {},
   "outputs": [
    {
     "name": "stdout",
     "output_type": "stream",
     "text": [
      "\n",
      "Zero followers days are : 79/366 which is:21.584699%\n"
     ]
    }
   ],
   "source": [
    "print(f'\\nZero followers days are : {zero_days}/{len(df)} which is:{zero_days/len(df):1%}')"
   ]
  },
  {
   "cell_type": "code",
   "execution_count": 15,
   "id": "6cc68ede",
   "metadata": {},
   "outputs": [
    {
     "name": "stdout",
     "output_type": "stream",
     "text": [
      "\n",
      "=== MONTHLY NEW FOLLOWERS ======\n",
      "Month\n",
      "2024-09      0\n",
      "2024-10      9\n",
      "2024-11     33\n",
      "2024-12     79\n",
      "2025-01     32\n",
      "2025-02     55\n",
      "2025-03    306\n",
      "2025-04    254\n",
      "2025-05    312\n",
      "2025-06    415\n",
      "2025-07    491\n",
      "2025-08    235\n",
      "2025-09    152\n",
      "Freq: M, Name: Total, dtype: int64\n"
     ]
    }
   ],
   "source": [
    "#monthly aggrigation \n",
    "df['Month'] = df['Date'].dt.to_period('M')\n",
    "monthly = df.groupby('Month')['Total'].sum()\n",
    "print('\\n=== MONTHLY NEW FOLLOWERS ======')\n",
    "print(monthly)"
   ]
  },
  {
   "cell_type": "code",
   "execution_count": 16,
   "id": "1a665427",
   "metadata": {},
   "outputs": [],
   "source": [
    "df.columns = df.columns.str.strip()\n"
   ]
  },
  {
   "cell_type": "code",
   "execution_count": 17,
   "id": "13894fe2",
   "metadata": {},
   "outputs": [
    {
     "data": {
      "image/png": "[encoded data removed]",
      "text/plain": [
       "<Figure size 1008x360 with 1 Axes>"
      ]
     },
     "metadata": {
      "needs_background": "light"
     },
     "output_type": "display_data"
    }
   ],
   "source": [
    "plt.figure(figsize=(14,5))\n",
    "sns.scatterplot(x='Date', y='Total', data=df, color='red', alpha=.6, label='Daily adds')\n",
    "plt.title('spane4all – follower growth')\n",
    "plt.xlabel('Date')\n",
    "plt.ylabel('Followers')\n",
    "plt.legend()\n",
    "plt.tight_layout()\n",
    "plt.show()\n"
   ]
  },
  {
   "cell_type": "markdown",
   "id": "7c310ad8",
   "metadata": {},
   "source": [
    "# Linear Regression "
   ]
  },
  {
   "cell_type": "code",
   "execution_count": 18,
   "id": "69e8995e",
   "metadata": {},
   "outputs": [
    {
     "name": "stdout",
     "output_type": "stream",
     "text": [
      "===== Linear Regression =====\n",
      "Slope of avarage new followers per day: 7.50\n",
      "R**2 on training data: 0.88\n",
      "Intercept : -548.27\n"
     ]
    }
   ],
   "source": [
    "#Feature matrix: day numbers are 1... N\n",
    "df['FM']= np.arange(1,len(df)+1)\n",
    "\n",
    "X = df[['FM']]\n",
    "Y = df['Cumu_followers']\n",
    "\n",
    "model= LinearRegression()\n",
    "model.fit(X,Y)\n",
    "\n",
    "print('===== Linear Regression =====')\n",
    "print(f'Slope of avarage new followers per day: { model.coef_[0]:.2f}')\n",
    "print(f'R**2 on training data: {model.score(X,Y):.2f}')\n",
    "print(f'Intercept : {model.intercept_:.2f}')"
   ]
  },
  {
   "cell_type": "markdown",
   "id": "a828dea4",
   "metadata": {},
   "source": [
    "# Projection for 31 Dec 2025"
   ]
  },
  {
   "cell_type": "code",
   "execution_count": 19,
   "id": "495aea0b",
   "metadata": {},
   "outputs": [],
   "source": [
    "last_day= df['Date'].max()\n",
    "target_date= datetime(2025,12,31)\n",
    "delta_day = ( target_date - last_day).days"
   ]
  },
  {
   "cell_type": "code",
   "execution_count": 20,
   "id": "0de7de57",
   "metadata": {},
   "outputs": [
    {
     "name": "stderr",
     "output_type": "stream",
     "text": [
      "/home/moeletsi/.local/lib/python3.10/site-packages/sklearn/utils/validation.py:2749: UserWarning: X does not have valid feature names, but LinearRegression was fitted with feature names\n",
      "  warnings.warn(\n"
     ]
    }
   ],
   "source": [
    "future_time = np.array([[len(df) + delta_day]])\n",
    "projected_total = int(model.predict(future_time)[0])"
   ]
  },
  {
   "cell_type": "code",
   "execution_count": 22,
   "id": "702ec52c",
   "metadata": {},
   "outputs": [
    {
     "name": "stdout",
     "output_type": "stream",
     "text": [
      "\n",
      "===== Projection =====\n",
      "Last data point:  2025-09-29  ->  4745 followers\n",
      "Target date : 2025-12-31 00:00:00\n",
      "Expected new followers : ~ 2896\n"
     ]
    }
   ],
   "source": [
    "print('\\n===== Projection =====')\n",
    "print(f'Last data point:  {last_day.date()}  ->  {int(df[\"Cumu_followers\"].iloc[-1])} followers')\n",
    "print(f'Target date : {target_date}')\n",
    "print(f'Expected new followers : ~ {projected_total}')"
   ]
  },
  {
   "cell_type": "code",
   "execution_count": 23,
   "id": "5a7a9122",
   "metadata": {},
   "outputs": [
    {
     "name": "stdout",
     "output_type": "stream",
     "text": [
      "========= TOTAL AMOUNT OF FOLLOWERS TO EXPECT ON 31 DEC 2025 ==========\n",
      " Linear Regrssion prediction \n",
      "We should expect to have about ~ 7641 on the 31 December 2025 \n"
     ]
    }
   ],
   "source": [
    "total_followers = (projected_total + int(df['Cumu_followers'].iloc[-1]))\n",
    "print(\"========= TOTAL AMOUNT OF FOLLOWERS TO EXPECT ON 31 DEC 2025 ==========\")\n",
    "print(\" Linear Regrssion prediction \")\n",
    "print(f'We should expect to have about ~ {total_followers} on the 31 December 2025 ')"
   ]
  },
  {
   "cell_type": "code",
   "execution_count": 26,
   "id": "20dad621",
   "metadata": {},
   "outputs": [
    {
     "name": "stdout",
     "output_type": "stream",
     "text": [
      "Rough 68 % band: 2604 – 3188 for the amout of new follower expected\n"
     ]
    }
   ],
   "source": [
    "# Confidence band: ±1 std of residuals (very rough)\n",
    "residuals = Y - model.predict(X)\n",
    "std_err = residuals.std()\n",
    "print(f'Rough 68 % band: {projected_total - int(std_err)} – {projected_total + int(std_err)} for the amout of new follower expected')"
   ]
  },
  {
   "cell_type": "code",
   "execution_count": 27,
   "id": "35acc9e8",
   "metadata": {},
   "outputs": [
    {
     "ename": "ImportError",
     "evalue": "cannot import name 'Prophet' from partially initialized module 'prophet' (most likely due to a circular import) (/home/moeletsi/Documents/Hitek/Database/October/Dataa/prophet.py)",
     "output_type": "error",
     "traceback": [
      "\u001b[0;31m---------------------------------------------------------------------------\u001b[0m",
      "\u001b[0;31mImportError\u001b[0m                               Traceback (most recent call last)",
      "\u001b[0;32m/tmp/ipykernel_4430/2493871459.py\u001b[0m in \u001b[0;36m<module>\u001b[0;34m\u001b[0m\n\u001b[0;32m----> 1\u001b[0;31m \u001b[0;32mfrom\u001b[0m \u001b[0mprophet\u001b[0m \u001b[0;32mimport\u001b[0m \u001b[0mProphet\u001b[0m\u001b[0;34m\u001b[0m\u001b[0;34m\u001b[0m\u001b[0m\n\u001b[0m",
      "\u001b[0;32m~/Documents/Hitek/Database/October/Dataa/prophet.py\u001b[0m in \u001b[0;36m<module>\u001b[0;34m\u001b[0m\n\u001b[1;32m      8\u001b[0m \u001b[0;32mfrom\u001b[0m \u001b[0msklearn\u001b[0m\u001b[0;34m.\u001b[0m\u001b[0mmetrics\u001b[0m \u001b[0;32mimport\u001b[0m \u001b[0mmean_absolute_error\u001b[0m\u001b[0;34m,\u001b[0m \u001b[0mmean_squared_error\u001b[0m\u001b[0;34m\u001b[0m\u001b[0;34m\u001b[0m\u001b[0m\n\u001b[1;32m      9\u001b[0m \u001b[0;32mfrom\u001b[0m \u001b[0mdatetime\u001b[0m \u001b[0;32mimport\u001b[0m \u001b[0mdatetime\u001b[0m\u001b[0;34m,\u001b[0m \u001b[0mtimedelta\u001b[0m\u001b[0;34m\u001b[0m\u001b[0;34m\u001b[0m\u001b[0m\n\u001b[0;32m---> 10\u001b[0;31m \u001b[0;32mfrom\u001b[0m \u001b[0mprophet\u001b[0m \u001b[0;32mimport\u001b[0m \u001b[0mProphet\u001b[0m\u001b[0;34m\u001b[0m\u001b[0;34m\u001b[0m\u001b[0m\n\u001b[0m\u001b[1;32m     11\u001b[0m \u001b[0;32mimport\u001b[0m \u001b[0mio\u001b[0m\u001b[0;34m\u001b[0m\u001b[0;34m\u001b[0m\u001b[0m\n\u001b[1;32m     12\u001b[0m \u001b[0;34m\u001b[0m\u001b[0m\n",
      "\u001b[0;31mImportError\u001b[0m: cannot import name 'Prophet' from partially initialized module 'prophet' (most likely due to a circular import) (/home/moeletsi/Documents/Hitek/Database/October/Dataa/prophet.py)"
     ]
    }
   ],
   "source": [
    "from prophet import Prophet"
   ]
  },
  {
   "cell_type": "code",
   "execution_count": null,
   "id": "3e3a6e56",
   "metadata": {},
   "outputs": [],
   "source": [
    "#preparing data for prophet ('ds' and 'y')\n",
    "prophet_df = df[['Date','Cumu_followers']].copy()\n",
    "prophet_df.columns = ['ds','y']"
   ]
  },
  {
   "cell_type": "code",
   "execution_count": 25,
   "id": "b76227cc",
   "metadata": {},
   "outputs": [],
   "source": [
    "#initiaizing and fitting the model\n",
    "model_prophet = Prophet(yearly_seasonality=True,\n",
    "                        weekly_seasonality= True,\n",
    "                        daily_seasonality= False,\n",
    "                       changepoint_prior_scale= 0.05 #regularization to avoid overfitting\n",
    "                       )"
   ]
  },
  {
   "cell_type": "code",
   "execution_count": 26,
   "id": "253962b3",
   "metadata": {},
   "outputs": [
    {
     "name": "stderr",
     "output_type": "stream",
     "text": [
      "08:28:07 - cmdstanpy - INFO - Chain [1] start processing\n",
      "08:28:07 - cmdstanpy - INFO - Chain [1] done processing\n"
     ]
    },
    {
     "data": {
      "text/plain": [
       "<prophet.forecaster.Prophet at 0x72acda49a0e0>"
      ]
     },
     "execution_count": 26,
     "metadata": {},
     "output_type": "execute_result"
    }
   ],
   "source": [
    "model_prophet.fit(prophet_df)"
   ]
  },
  {
   "cell_type": "code",
   "execution_count": 27,
   "id": "6cce3f2a",
   "metadata": {},
   "outputs": [],
   "source": [
    "future = model_prophet.make_future_dataframe(periods= delta_day)\n",
    "forecast = model_prophet.predict(future)"
   ]
  },
  {
   "cell_type": "code",
   "execution_count": 28,
   "id": "32d25153",
   "metadata": {},
   "outputs": [],
   "source": [
    "#extracting the prediction for our target date\n",
    "prophet_prediction = forecast[forecast['ds']== target_date]['yhat'].values[0]"
   ]
  },
  {
   "cell_type": "code",
   "execution_count": 29,
   "id": "ae95374d",
   "metadata": {},
   "outputs": [
    {
     "name": "stderr",
     "output_type": "stream",
     "text": [
      "/home/moeletsi/.local/lib/python3.10/site-packages/sklearn/utils/validation.py:2749: UserWarning: X does not have valid feature names, but LinearRegression was fitted with feature names\n",
      "  warnings.warn(\n"
     ]
    }
   ],
   "source": [
    "# Now let's run the linear regression again for comparison\n",
    "df['FM'] = np.arange(1, len(df) + 1)\n",
    "X = df[['FM']]\n",
    "Y = df['Cumu_followers']\n",
    "\n",
    "model_lr = LinearRegression()\n",
    "model_lr.fit(X, Y)\n",
    "\n",
    "future_time = np.array([[len(df) + delta_day]])\n",
    "lr_prediction = model_lr.predict(future_time)[0]"
   ]
  },
  {
   "cell_type": "code",
   "execution_count": 30,
   "id": "c14bacf3",
   "metadata": {},
   "outputs": [
    {
     "name": "stdout",
     "output_type": "stream",
     "text": [
      "0      467.108601\n",
      "1      462.251599\n",
      "2      457.394597\n",
      "3      451.537595\n",
      "4      449.680593\n",
      "          ...    \n",
      "360    549.587900\n",
      "361    551.730898\n",
      "362    553.873896\n",
      "363    549.016894\n",
      "364    547.159892\n",
      "Name: Cumu_followers, Length: 365, dtype: float64\n",
      "Std err: 284.0552909495048\n",
      "2154.9090738570335\n",
      "2723.0196557560434\n"
     ]
    }
   ],
   "source": [
    "# Calculate confidence intervals for both models\n",
    "# For linear regression\n",
    "residuals = Y - model_lr.predict(X)\n",
    "std_err_lr = residuals.std()\n",
    "lr_lower = lr_prediction - std_err_lr\n",
    "lr_upper = lr_prediction + std_err_lr\n",
    "print(residuals)\n",
    "print(f'Std err: {std_err_lr}')\n",
    "print(lr_lower)\n",
    "print(lr_upper)\n"
   ]
  },
  {
   "cell_type": "code",
   "execution_count": 31,
   "id": "a940b277",
   "metadata": {},
   "outputs": [],
   "source": [
    "# For Prophet (it provides its own uncertainty intervals)\n",
    "prophet_lower = forecast[forecast['ds'] == target_date]['yhat_lower'].values[0]\n",
    "prophet_upper = forecast[forecast['ds'] == target_date]['yhat_upper'].values[0]"
   ]
  },
  {
   "cell_type": "code",
   "execution_count": 32,
   "id": "11211b49",
   "metadata": {},
   "outputs": [
    {
     "data": {
      "text/plain": [
       "<Figure size 1008x576 with 0 Axes>"
      ]
     },
     "metadata": {},
     "output_type": "display_data"
    }
   ],
   "source": [
    "# Create comparison plot\n",
    "plt.figure(figsize=(14, 8))\n",
    "\n",
    "\n",
    "# Convert to numpy arrays for plotting to avoid the pandas indexing issue\n",
    "dates_np = df['Date'].values\n",
    "cumulative_np = df['Cumu_followers'].values\n",
    "\n"
   ]
  },
  {
   "cell_type": "code",
   "execution_count": 33,
   "id": "ddfc6f70",
   "metadata": {},
   "outputs": [
    {
     "data": {
      "text/plain": [
       "[<matplotlib.lines.Line2D at 0x72acda3b08b0>]"
      ]
     },
     "execution_count": 33,
     "metadata": {},
     "output_type": "execute_result"
    },
    {
     "data": {
      "image/png": "[encoded data removed]",
      "text/plain": [
       "<Figure size 432x288 with 1 Axes>"
      ]
     },
     "metadata": {
      "needs_background": "light"
     },
     "output_type": "display_data"
    }
   ],
   "source": [
    "# Plot historical data\n",
    "plt.plot(dates_np, cumulative_np, 'ko-', label='Historical Data', markersize=4)\n"
   ]
  },
  {
   "cell_type": "code",
   "execution_count": 34,
   "id": "0a61a537",
   "metadata": {},
   "outputs": [
    {
     "name": "stderr",
     "output_type": "stream",
     "text": [
      "/home/moeletsi/.local/lib/python3.10/site-packages/sklearn/utils/validation.py:2749: UserWarning: X does not have valid feature names, but LinearRegression was fitted with feature names\n",
      "  warnings.warn(\n"
     ]
    },
    {
     "ename": "AttributeError",
     "evalue": "module 'matplotlib.pyplot' has no attribute 'xtickscksicksicksicksicksi'",
     "output_type": "error",
     "traceback": [
      "\u001b[0;31m---------------------------------------------------------------------------\u001b[0m",
      "\u001b[0;31mAttributeError\u001b[0m                            Traceback (most recent call last)",
      "\u001b[0;32m/tmp/ipykernel_7216/3253260781.py\u001b[0m in \u001b[0;36m<module>\u001b[0;34m\u001b[0m\n\u001b[1;32m     30\u001b[0m \u001b[0mplt\u001b[0m\u001b[0;34m.\u001b[0m\u001b[0mxlabel\u001b[0m\u001b[0;34m(\u001b[0m\u001b[0;34m'Date'\u001b[0m\u001b[0;34m)\u001b[0m\u001b[0;34m\u001b[0m\u001b[0;34m\u001b[0m\u001b[0m\n\u001b[1;32m     31\u001b[0m \u001b[0mplt\u001b[0m\u001b[0;34m.\u001b[0m\u001b[0mylabel\u001b[0m\u001b[0;34m(\u001b[0m\u001b[0;34m'Cumulative Followers'\u001b[0m\u001b[0;34m)\u001b[0m\u001b[0;34m\u001b[0m\u001b[0;34m\u001b[0m\u001b[0m\n\u001b[0;32m---> 32\u001b[0;31m \u001b[0mplt\u001b[0m\u001b[0;34m.\u001b[0m\u001b[0mxtickscksicksicksicksicksi\u001b[0m\u001b[0;34m\u001b[0m\u001b[0;34m\u001b[0m\u001b[0m\n\u001b[0m\u001b[1;32m     33\u001b[0m \u001b[0mplt\u001b[0m\u001b[0;34m.\u001b[0m\u001b[0mlegend\u001b[0m\u001b[0;34m(\u001b[0m\u001b[0;34m)\u001b[0m\u001b[0;34m\u001b[0m\u001b[0;34m\u001b[0m\u001b[0m\n\u001b[1;32m     34\u001b[0m \u001b[0mplt\u001b[0m\u001b[0;34m.\u001b[0m\u001b[0mgrid\u001b[0m\u001b[0;34m(\u001b[0m\u001b[0;32mTrue\u001b[0m\u001b[0;34m,\u001b[0m \u001b[0malpha\u001b[0m\u001b[0;34m=\u001b[0m\u001b[0;36m0.3\u001b[0m\u001b[0;34m)\u001b[0m\u001b[0;34m\u001b[0m\u001b[0;34m\u001b[0m\u001b[0m\n",
      "\u001b[0;31mAttributeError\u001b[0m: module 'matplotlib.pyplot' has no attribute 'xtickscksicksicksicksicksi'"
     ]
    },
    {
     "data": {
      "image/png": "[encoded data removed]",
      "text/plain": [
       "<Figure size 432x288 with 1 Axes>"
      ]
     },
     "metadata": {
      "needs_background": "light"
     },
     "output_type": "display_data"
    }
   ],
   "source": [
    "\n",
    "# Historical data\n",
    "plt.plot(dates_np, cumulative_np, 'ko-', label='Historical Data', markersize=4)\n",
    "\n",
    "# Plot linear regression prediction\n",
    "plt.axvline(x=target_date, color='gray', linestyle='--', alpha=0.7, label='Last Data Point')\n",
    "plt.plot(target_date, lr_prediction, 'ro', markersize=10, label='Linear Regression Prediction')\n",
    "plt.errorbar(target_date, lr_prediction, yerr=std_err_lr, fmt='o', color='red', \n",
    "             capsize=5, label='LR Confidence Interval')\n",
    "\n",
    "# Plot Prophet prediction\n",
    "plt.plot(target_date, prophet_prediction, 'bo', markersize=10, label='Prophet Prediction')\n",
    "plt.errorbar(target_date, prophet_prediction, \n",
    "             yerr=[[prophet_prediction - prophet_lower], [prophet_upper - prophet_prediction]], \n",
    "             fmt='o', color='blue', capsize=5, label='Prophet Confidence Interval')\n",
    "\n",
    "##=======\n",
    "# Plot Prophet forecast\n",
    "future_dates = forecast[forecast['ds'] > target_date]['ds'].values\n",
    "future_values = forecast[forecast['ds'] > target_date]['yhat'].values\n",
    "plt.plot(future_dates, future_values, 'b-', alpha=0.7, label='Prophet Forecast')\n",
    "\n",
    "\n",
    "# Plot linear regression trendline\n",
    "all_dates = pd.date_range(start=df['Date'].min(), end=target_date)\n",
    "all_days = np.arange(1, len(all_dates) + 1)\n",
    "lr_trend = model_lr.predict(all_days.reshape(-1, 1))\n",
    "plt.plot(all_dates.values, lr_trend, 'r-', alpha=0.7, label='Linear Regression Trend')\n",
    "\n",
    "plt.title('Follower Growth: Historical Data and Predictions')\n",
    "plt.xlabel('Date')\n",
    "plt.ylabel('Cumulative Followers')\n",
    "plt.xtickscksicksicksicksicksi\n",
    "plt.legend()\n",
    "plt.grid(True, alpha=0.3)\n",
    "plt.tight_layout()\n",
    "plt.show()\n",
    "\n",
    "\n",
    "\n"
   ]
  },
  {
   "cell_type": "code",
   "execution_count": null,
   "id": "07628037",
   "metadata": {},
   "outputs": [],
   "source": [
    "# Print comparison results\n",
    "print(\"=\"*60)\n",
    "print(\"FOLLOWER PREDICTION COMPARISON\")\n",
    "print(\"=\"*60)\n",
    "print(f\"Target Date: {target_date.strftime('%Y-%m-%d')}\")\n",
    "print(f\"Last data point: {last_day.strftime('%Y-%m-%d')} -> {int(df['Cumu_followers'].iloc[-1])} followers\")\n",
    "print(\"\\nLinear Regression Prediction:\")\n",
    "print(f\"  Expected followers: {lr_prediction:.0f}\")\n",
    "print(f\"  Confidence interval: {lr_lower:.0f} - {lr_upper:.0f} (68%)\")\n",
    "print(f\"  R² on training data: {model_lr.score(X, Y):.3f}\")\n",
    "\n",
    "print(\"\\nProphet Prediction:\")\n",
    "print(f\"  Expected followers: {prophet_prediction:.0f}\")\n",
    "print(f\"  Confidence interval: {prophet_lower:.0f} - {prophet_upper:.0f} (80% - Prophet default)\")\n",
    "print(\"\\nDifference:\")\n",
    "print(f\"  Absolute: {abs(lr_prediction - prophet_prediction):.0f} followers\")\n",
    "print(f\"  Relative: {abs(lr_prediction - prophet_prediction)/lr_prediction*100:.1f}%\")\n"
   ]
  },
  {
   "cell_type": "code",
   "execution_count": null,
   "id": "f441b159",
   "metadata": {},
   "outputs": [],
   "source": [
    "# Check residuals pattern for linear regression\n",
    "plt.figure(figsize=(12, 5))\n",
    "plt.subplot(1, 2, 1)\n",
    "plt.scatter(model_lr.predict(X), residuals, alpha=0.5)\n",
    "plt.axhline(y=0, color='r', linestyle='--')\n",
    "plt.xlabel('Fitted values')\n",
    "plt.ylabel('Residuals')\n",
    "plt.title('Linear Regression Residuals vs Fitted')\n",
    "\n",
    "plt.subplot(1, 2, 2)\n",
    "plt.hist(residuals, bins=30, alpha=0.7)\n",
    "plt.xlabel('Residuals')\n",
    "plt.ylabel('Frequency')\n",
    "plt.title('Distribution of Linear Regression Residuals')\n",
    "plt.tight_layout()\n",
    "plt.show()\n"
   ]
  },
  {
   "cell_type": "code",
   "execution_count": null,
   "id": "ad6d4158",
   "metadata": {},
   "outputs": [],
   "source": []
  },
  {
   "cell_type": "code",
   "execution_count": null,
   "id": "3b54e030",
   "metadata": {},
   "outputs": [],
   "source": [
    "\n",
    "# Calculate and compare model performance on historical data\n",
    "from sklearn.metrics import mean_absolute_error, mean_squared_error\n",
    "\n",
    "# Prophet predictions on historical data\n",
    "prophet_historical = forecast[forecast['ds'].isin(df['Date'])]['yhat'].values\n"
   ]
  },
  {
   "cell_type": "code",
   "execution_count": null,
   "id": "dfa4d7a9",
   "metadata": {},
   "outputs": [],
   "source": [
    "\n",
    "# Calculate metrics\n",
    "lr_mae = mean_absolute_error(Y, model_lr.predict(X))\n",
    "lr_rmse = np.sqrt(mean_squared_error(Y, model_lr.predict(X)))\n",
    "\n",
    "prophet_mae = mean_absolute_error(Y, prophet_historical)\n",
    "prophet_rmse = np.sqrt(mean_squared_error(Y, prophet_historical))\n",
    "\n",
    "\n",
    "print(\"\\n\" + \"=\"*60)\n",
    "print(\"MODEL PERFORMANCE COMPARISON (HISTORICAL DATA)\")\n",
    "print(\"=\"*60)\n",
    "print(f\"Linear Regression:\")\n",
    "print(f\"  MAE: {lr_mae:.2f}\")\n",
    "print(f\"  RMSE: {lr_rmse:.2f}\")\n",
    "\n",
    "print(f\"\\nProphet:\")\n",
    "print(f\"  MAE: {prophet_mae:.2f}\")\n",
    "print(f\"  RMSE: {prophet_rmse:.2f}\")\n",
    "\n"
   ]
  },
  {
   "cell_type": "code",
   "execution_count": null,
   "id": "257aff18",
   "metadata": {},
   "outputs": [],
   "source": [
    "# Recommendation based on results\n",
    "print(\"\\n\" + \"=\"*60)\n",
    "print(\"RECOMMENDATION\")\n",
    "print(\"=\"*60)\n",
    "if prophet_rmse < lr_rmse:\n",
    "    print(\"Prophet model performs better on historical data.\")\n",
    "    print(f\"Recommended prediction: {prophet_prediction:.0f} followers\")\n",
    "else:\n",
    "    print(\"Linear regression performs better on historical data.\")\n",
    "    print(f\"Recommended prediction: {lr_prediction:.0f} followers\")"
   ]
  },
  {
   "cell_type": "code",
   "execution_count": null,
   "id": "54d3d2c6",
   "metadata": {},
   "outputs": [],
   "source": []
  },
  {
   "cell_type": "code",
   "execution_count": null,
   "id": "6147c6e8",
   "metadata": {},
   "outputs": [],
   "source": [
    "future_dates = forecast[forecast['ds'] > target_date]['ds'].values\n",
    "\n",
    "print(forecast['ds'].min(), forecast['ds'].max())\n",
    "print(\"Target date:\", target_date)\n",
    "\n",
    "target_date = pd.to_datetime(target_date)\n",
    "\n",
    "future_dates = forecast[forecast['ds'] > target_date]['ds']\n",
    "\n",
    "# Ensure target_date is datetime\n",
    "target_date = pd.to_datetime(target_date)\n",
    "\n",
    "# Filter future forecast\n",
    "future_forecast = forecast[forecast['ds'] > target_date]\n",
    "\n",
    "# Check if there's data to plot\n",
    "if not future_forecast.empty:\n",
    "    future_dates = future_forecast['ds']\n",
    "    future_values = future_forecast['yhat']\n",
    "    plt.plot(future_dates, future_values, 'b-', alpha=0.7, label='Prophet Forecast')\n",
    "else:\n",
    "    print(\"⚠️ No future forecast data available beyond target_date.\")\n",
    "\n"
   ]
  },
  {
   "cell_type": "code",
   "execution_count": null,
   "id": "84c9f7ae",
   "metadata": {},
   "outputs": [],
   "source": [
    "print(\"Future forecast dates:\", future_dates)\n",
    "print(\"Future forecast values:\", future_values)\n"
   ]
  },
  {
   "cell_type": "code",
   "execution_count": null,
   "id": "dcbb3cf0",
   "metadata": {
    "scrolled": true
   },
   "outputs": [],
   "source": [
    "#Monthly Aggregation: Bar Plot\n",
    "monthly = df.groupby(df['Date'].dt.to_period('M'))['Total'].sum()\n",
    "monthly.plot(kind='bar', figsize=(12,6), color='skyblue')\n",
    "plt.title('Monthly New Followers')\n",
    "plt.ylabel('Followers')\n",
    "plt.xlabel('Month')\n",
    "plt.xticks(rotation=45)\n",
    "plt.tight_layout()\n",
    "plt.show()\n"
   ]
  },
  {
   "cell_type": "code",
   "execution_count": null,
   "id": "84b95bb6",
   "metadata": {},
   "outputs": [],
   "source": []
  },
  {
   "cell_type": "code",
   "execution_count": null,
   "id": "e0c39f5d",
   "metadata": {},
   "outputs": [],
   "source": [
    "\n",
    "# Historical data\n",
    "plt.plot(dates_np, cumulative_np, 'ko-', label='Historical Data', markersize=4)\n",
    "\n",
    "# Plot linear-regression prediction\n",
    "plt.axvline(x=target_date, color='gray', linestyle='--', alpha=0.7,\n",
    "            label='Last Data Point')\n",
    "plt.plot(target_date, lr_prediction, 'ro', markersize=10,\n",
    "         label='Linear Regression Prediction')\n",
    "plt.errorbar(target_date, lr_prediction, yerr=std_err_lr,\n",
    "             fmt='o', color='red', capsize=5,\n",
    "             label='LR Confidence Interval')\n",
    "\n",
    "# Plot Prophet prediction\n",
    "plt.plot(target_date, prophet_prediction, 'bo', markersize=10,\n",
    "         label='Prophet Prediction')\n",
    "\n",
    "# FIXED: give errorbar a 2×N array for asymmetric intervals\n",
    "prophet_err = np.array([[prophet_prediction - prophet_lower],\n",
    "                        [prophet_upper - prophet_prediction]])\n",
    "plt.errorbar(target_date, prophet_prediction, yerr=prophet_err,\n",
    "             fmt='o', color='blue', capsize=5,\n",
    "             label='Prophet Confidence Interval')\n",
    "\n",
    "# Prophet forecast\n",
    "future_dates = forecast[forecast['ds'] > target_date]['ds'].values\n",
    "future_values = forecast[forecast['ds'] > target_date]['yhat'].values\n",
    "plt.plot(future_dates, future_values, 'b-', alpha=0.7,\n",
    "         label='Prophet Forecast')\n",
    "\n",
    "# Linear-regression trendline\n",
    "all_dates = pd.date_range(start=df['Date'].min(), end=target_date)\n",
    "all_days = np.arange(1, len(all_dates) + 1)\n",
    "lr_trend = model_lr.predict(all_days.reshape(-1, 1))\n",
    "plt.plot(all_dates.values, lr_trend, 'r-', alpha=0.7,\n",
    "         label='Linear Regression Trend')\n",
    "\n",
    "# --- labels, legend, grid ----------------------------------------------------\n",
    "plt.title('Follower Growth: Historical Data and Predictions')\n",
    "plt.xlabel('Date')\n",
    "plt.ylabel('Cumulative Followers')\n",
    "plt.legend()\n",
    "plt.grid(True, alpha=0.3)\n",
    "\n",
    "# ROTATE x-axis labels 45° ----------------------------------------------------\n",
    "plt.gca().tick_params(axis='x', rotation=45)\n",
    "\n",
    "# make sure the rotated labels fit nicely\n",
    "plt.tight_layout()\n",
    "plt.show()"
   ]
  },
  {
   "cell_type": "code",
   "execution_count": null,
   "id": "160cf058",
   "metadata": {},
   "outputs": [],
   "source": []
  },
  {
   "cell_type": "code",
   "execution_count": null,
   "id": "6d88f786",
   "metadata": {},
   "outputs": [],
   "source": []
  }
 ],
 "metadata": {
  "kernelspec": {
   "display_name": "Python 3 (ipykernel)",
   "language": "python",
   "name": "python3"
  },
  "language_info": {
   "codemirror_mode": {
    "name": "ipython",
    "version": 3
   },
   "file_extension": ".py",
   "mimetype": "text/x-python",
   "name": "python",
   "nbconvert_exporter": "python",
   "pygments_lexer": "ipython3",
   "version": "3.10.12"
  }
 },
 "nbformat": 4,
 "nbformat_minor": 5
}
